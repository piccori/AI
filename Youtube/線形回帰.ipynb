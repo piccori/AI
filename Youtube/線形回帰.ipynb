{
 "cells": [
  {
   "cell_type": "code",
   "execution_count": 29,
   "metadata": {},
   "outputs": [],
   "source": [
    "import numpy as np\n",
    "import matplotlib.pyplot as plt"
   ]
  },
  {
   "cell_type": "code",
   "execution_count": 30,
   "metadata": {},
   "outputs": [],
   "source": [
    "x = np.random.rand(100, 1)"
   ]
  },
  {
   "cell_type": "code",
   "execution_count": 31,
   "metadata": {},
   "outputs": [
    {
     "data": {
      "text/plain": [
       "array([[0.29045128],\n",
       "       [0.49468441],\n",
       "       [0.21801301],\n",
       "       [0.03427781],\n",
       "       [0.10616165],\n",
       "       [0.63559346],\n",
       "       [0.06819053],\n",
       "       [0.6362663 ],\n",
       "       [0.6912998 ],\n",
       "       [0.78682999],\n",
       "       [0.01906018],\n",
       "       [0.17529959],\n",
       "       [0.11461237],\n",
       "       [0.09140482],\n",
       "       [0.43402962],\n",
       "       [0.07898371],\n",
       "       [0.43810939],\n",
       "       [0.82777868],\n",
       "       [0.94710993],\n",
       "       [0.04867967],\n",
       "       [0.9121816 ],\n",
       "       [0.37736378],\n",
       "       [0.86475631],\n",
       "       [0.48296554],\n",
       "       [0.30096423],\n",
       "       [0.82669888],\n",
       "       [0.18196305],\n",
       "       [0.87889548],\n",
       "       [0.58915594],\n",
       "       [0.45435342],\n",
       "       [0.83206167],\n",
       "       [0.69570043],\n",
       "       [0.431363  ],\n",
       "       [0.02448617],\n",
       "       [0.73055026],\n",
       "       [0.67921386],\n",
       "       [0.79795309],\n",
       "       [0.49891737],\n",
       "       [0.30286827],\n",
       "       [0.30953893],\n",
       "       [0.77254672],\n",
       "       [0.63673331],\n",
       "       [0.62787443],\n",
       "       [0.46779479],\n",
       "       [0.01524289],\n",
       "       [0.83044122],\n",
       "       [0.21774468],\n",
       "       [0.68731636],\n",
       "       [0.74320183],\n",
       "       [0.90117083],\n",
       "       [0.96051269],\n",
       "       [0.40148348],\n",
       "       [0.35225522],\n",
       "       [0.35502232],\n",
       "       [0.9747371 ],\n",
       "       [0.22903446],\n",
       "       [0.32591571],\n",
       "       [0.03222177],\n",
       "       [0.2245505 ],\n",
       "       [0.9384207 ],\n",
       "       [0.67189764],\n",
       "       [0.1653635 ],\n",
       "       [0.86647961],\n",
       "       [0.20652464],\n",
       "       [0.30333633],\n",
       "       [0.65617359],\n",
       "       [0.59143733],\n",
       "       [0.78233965],\n",
       "       [0.82117544],\n",
       "       [0.39124484],\n",
       "       [0.76105624],\n",
       "       [0.71108968],\n",
       "       [0.47803929],\n",
       "       [0.01355098],\n",
       "       [0.32139534],\n",
       "       [0.45415452],\n",
       "       [0.6724892 ],\n",
       "       [0.16929804],\n",
       "       [0.05922726],\n",
       "       [0.86632403],\n",
       "       [0.6852488 ],\n",
       "       [0.55999965],\n",
       "       [0.6035032 ],\n",
       "       [0.52338116],\n",
       "       [0.67689943],\n",
       "       [0.21172378],\n",
       "       [0.26470493],\n",
       "       [0.24085937],\n",
       "       [0.95305196],\n",
       "       [0.56107316],\n",
       "       [0.738571  ],\n",
       "       [0.50233199],\n",
       "       [0.90895076],\n",
       "       [0.18970402],\n",
       "       [0.88280127],\n",
       "       [0.67288192],\n",
       "       [0.63392492],\n",
       "       [0.51965227],\n",
       "       [0.02703702],\n",
       "       [0.88971464]])"
      ]
     },
     "execution_count": 31,
     "metadata": {},
     "output_type": "execute_result"
    }
   ],
   "source": [
    "x"
   ]
  },
  {
   "cell_type": "code",
   "execution_count": 32,
   "metadata": {},
   "outputs": [],
   "source": [
    "y = 5+ 3*x + np.random.rand(100,1)"
   ]
  },
  {
   "cell_type": "code",
   "execution_count": 33,
   "metadata": {},
   "outputs": [
    {
     "data": {
      "text/plain": [
       "<matplotlib.collections.PathCollection at 0x7fc0f66aaa00>"
      ]
     },
     "execution_count": 33,
     "metadata": {},
     "output_type": "execute_result"
    },
    {
     "data": {
      "image/png": "[encoded data removed]",
      "text/plain": [
       "<Figure size 432x288 with 1 Axes>"
      ]
     },
     "metadata": {
      "needs_background": "light"
     },
     "output_type": "display_data"
    }
   ],
   "source": [
    "plt.scatter(x,y)"
   ]
  },
  {
   "cell_type": "code",
   "execution_count": 34,
   "metadata": {},
   "outputs": [],
   "source": [
    "from sklearn.linear_model import LinearRegression"
   ]
  },
  {
   "cell_type": "code",
   "execution_count": 35,
   "metadata": {},
   "outputs": [],
   "source": [
    "lin_reg = LinearRegression().fit(x,y.ravel())# fitで学習を進める"
   ]
  },
  {
   "cell_type": "code",
   "execution_count": 36,
   "metadata": {},
   "outputs": [
    {
     "data": {
      "text/plain": [
       "(5.536321441523733, array([2.94664759]))"
      ]
     },
     "execution_count": 36,
     "metadata": {},
     "output_type": "execute_result"
    }
   ],
   "source": [
    "lin_reg.intercept_,lin_reg.coef_ #(切片、傾き)\n"
   ]
  },
  {
   "cell_type": "code",
   "execution_count": 37,
   "metadata": {},
   "outputs": [
    {
     "data": {
      "text/plain": [
       "<matplotlib.collections.PathCollection at 0x7fc0f656c4c0>"
      ]
     },
     "execution_count": 37,
     "metadata": {},
     "output_type": "execute_result"
    },
    {
     "data": {
      "image/png": "[encoded data removed]",
      "text/plain": [
       "<Figure size 432x288 with 1 Axes>"
      ]
     },
     "metadata": {
      "needs_background": "light"
     },
     "output_type": "display_data"
    }
   ],
   "source": [
    "x_new = np.array([[0],[1]])\n",
    "plt.plot(x_new,lin_reg.intercept_ + lin_reg.coef_ * x_new,'red')\n",
    "plt.scatter(x,y)"
   ]
  },
  {
   "cell_type": "code",
   "execution_count": 38,
   "metadata": {},
   "outputs": [],
   "source": [
    "from sklearn.linear_model import SGDRegressor"
   ]
  },
  {
   "cell_type": "code",
   "execution_count": 39,
   "metadata": {},
   "outputs": [],
   "source": [
    "sgd_reg = SGDRegressor(max_iter=100).fit(x,y.ravel())#何回学習の更新を行うかmax_iter"
   ]
  },
  {
   "cell_type": "code",
   "execution_count": 40,
   "metadata": {},
   "outputs": [
    {
     "data": {
      "text/plain": [
       "(array([5.51375116]), array([2.94103425]))"
      ]
     },
     "execution_count": 40,
     "metadata": {},
     "output_type": "execute_result"
    }
   ],
   "source": [
    "sgd_reg.intercept_,sgd_reg.coef_"
   ]
  },
  {
   "cell_type": "code",
   "execution_count": 41,
   "metadata": {},
   "outputs": [
    {
     "name": "stderr",
     "output_type": "stream",
     "text": [
      "/Library/Frameworks/Python.framework/Versions/3.8/lib/python3.8/site-packages/sklearn/linear_model/_stochastic_gradient.py:1208: ConvergenceWarning: Maximum number of iteration reached before convergence. Consider increasing max_iter to improve the fit.\n",
      "  warnings.warn(\"Maximum number of iteration reached before \"\n"
     ]
    },
    {
     "data": {
      "text/plain": [
       "(array([0.8602341]), array([0.46224924]))"
      ]
     },
     "execution_count": 41,
     "metadata": {},
     "output_type": "execute_result"
    }
   ],
   "source": [
    "#eta0=0.0001　学習率\n",
    "sgd_reg_00001 = SGDRegressor(eta0=0.0001,max_iter=100).fit(x,y.ravel())\n",
    "sgd_reg_00001.intercept_,sgd_reg_00001.coef_"
   ]
  },
  {
   "cell_type": "code",
   "execution_count": 43,
   "metadata": {},
   "outputs": [
    {
     "data": {
      "text/plain": [
       "<matplotlib.collections.PathCollection at 0x7fc0f657cdc0>"
      ]
     },
     "execution_count": 43,
     "metadata": {},
     "output_type": "execute_result"
    },
    {
     "data": {
      "image/png": "[encoded data removed]",
      "text/plain": [
       "<Figure size 432x288 with 1 Axes>"
      ]
     },
     "metadata": {
      "needs_background": "light"
     },
     "output_type": "display_data"
    }
   ],
   "source": [
    "plt.plot(x_new,sgd_reg_00001.intercept_ + sgd_reg_00001.coef_ * x_new, 'red')\n",
    "plt.scatter(x,y)"
   ]
  },
  {
   "cell_type": "code",
   "execution_count": 44,
   "metadata": {},
   "outputs": [],
   "source": [
    "sgd_reg_100 = SGDRegressor(eta0=100,max_iter=100).fit(x,y.ravel())"
   ]
  },
  {
   "cell_type": "code",
   "execution_count": 45,
   "metadata": {},
   "outputs": [
    {
     "data": {
      "text/plain": [
       "(array([-2.21392682e+12]), array([-9.45862428e+12]))"
      ]
     },
     "execution_count": 45,
     "metadata": {},
     "output_type": "execute_result"
    }
   ],
   "source": [
    "sgd_reg_100.intercept_,sgd_reg_100.coef_"
   ]
  },
  {
   "cell_type": "code",
   "execution_count": 46,
   "metadata": {},
   "outputs": [
    {
     "data": {
      "text/plain": [
       "<matplotlib.collections.PathCollection at 0x7fc0f6819fd0>"
      ]
     },
     "execution_count": 46,
     "metadata": {},
     "output_type": "execute_result"
    },
    {
     "data": {
      "image/png": "[encoded data removed]",
      "text/plain": [
       "<Figure size 432x288 with 1 Axes>"
      ]
     },
     "metadata": {
      "needs_background": "light"
     },
     "output_type": "display_data"
    }
   ],
   "source": [
    "plt.plot(x_new,sgd_reg_100.intercept_ + sgd_reg_100.coef_ *x_new,'red')\n",
    "plt.scatter(x,y)"
   ]
  }
 ],
 "metadata": {
  "kernelspec": {
   "display_name": "Python 3",
   "language": "python",
   "name": "python3"
  },
  "language_info": {
   "codemirror_mode": {
    "name": "ipython",
    "version": 3
   },
   "file_extension": ".py",
   "mimetype": "text/x-python",
   "name": "python",
   "nbconvert_exporter": "python",
   "pygments_lexer": "ipython3",
   "version": "3.8.5"
  },
  "toc": {
   "base_numbering": 1,
   "nav_menu": {},
   "number_sections": true,
   "sideBar": true,
   "skip_h1_title": false,
   "title_cell": "Table of Contents",
   "title_sidebar": "Contents",
   "toc_cell": false,
   "toc_position": {},
   "toc_section_display": true,
   "toc_window_display": false
  }
 },
 "nbformat": 4,
 "nbformat_minor": 4
}

{
 "cells": [
  {
   "cell_type": "markdown",
   "metadata": {},
   "source": [
    "# パーセプトロンとは\n",
    "複数の信号から入力を得て、生き血より大きければ１、小さければ０を出力するアルゴリズムです。\n",
    "\n",
    "　y = b + w1x1+w2x2\n",
    " \n",
    " y   =    {０　（y<=0）\n",
    "             {１　（y>=0）\n"
   ]
  },
  {
   "cell_type": "markdown",
   "metadata": {},
   "source": [
    "# 単純な論理回路\n",
    "論理回路とは、0か１かの入力があって０か１かの出力を行うものを論理回路という。"
   ]
  },
  {
   "cell_type": "markdown",
   "metadata": {},
   "source": [
    "・AND\n",
    "２つの入力が１の時だけ１を、他は０を出力する"
   ]
  },
  {
   "cell_type": "code",
   "execution_count": 2,
   "metadata": {},
   "outputs": [],
   "source": [
    "def ANDdef AND(x1,x2):\n",
    "     x = np.array([x1, x2])\n",
    "     w = np.array([0.5, 0.5])\n",
    "     b = -0.7\n",
    "     tmp = b + np.sum(w*x)\n",
    "     if tmp <= 0:\n",
    "             return 0\n",
    "     elif tmp > 0:\n",
    "             return 1(x1,x2):\n",
    "    w1,w2,theta = 0.5,0.5,0.7\n",
    "    tmp = x1 * w1+ x2 * w2\n",
    "    if tmp <= theta:\n",
    "        return 0\n",
    "    elif tmp >= theta:\n",
    "        return 1"
   ]
  },
  {
   "cell_type": "code",
   "execution_count": null,
   "metadata": {},
   "outputs": [],
   "source": []
  }
 ],
 "metadata": {
  "kernelspec": {
   "display_name": "Python 3",
   "language": "python",
   "name": "python3"
  },
  "language_info": {
   "codemirror_mode": {
    "name": "ipython",
    "version": 3
   },
   "file_extension": ".py",
   "mimetype": "text/x-python",
   "name": "python",
   "nbconvert_exporter": "python",
   "pygments_lexer": "ipython3",
   "version": "3.8.5"
  },
  "toc": {
   "base_numbering": 1,
   "nav_menu": {},
   "number_sections": true,
   "sideBar": true,
   "skip_h1_title": false,
   "title_cell": "Table of Contents",
   "title_sidebar": "Contents",
   "toc_cell": false,
   "toc_position": {},
   "toc_section_display": true,
   "toc_window_display": false
  }
 },
 "nbformat": 4,
 "nbformat_minor": 4
}
